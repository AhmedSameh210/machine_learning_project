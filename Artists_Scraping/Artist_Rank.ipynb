{
  "nbformat": 4,
  "nbformat_minor": 0,
  "metadata": {
    "colab": {
      "provenance": []
    },
    "kernelspec": {
      "name": "python3",
      "display_name": "Python 3"
    },
    "language_info": {
      "name": "python"
    }
  },
  "cells": [
    {
      "cell_type": "code",
      "execution_count": 28,
      "metadata": {
        "id": "ccvGpCspgQ6L"
      },
      "outputs": [],
      "source": [
        "import pandas as pd\n",
        "import requests\n",
        "import csv\n",
        "from bs4 import BeautifulSoup\n"
      ]
    },
    {
      "cell_type": "code",
      "source": [
        "df = pd.read_csv('SongPopularity.csv')"
      ],
      "metadata": {
        "id": "dkpRgEb8mvX-"
      },
      "execution_count": 3,
      "outputs": []
    },
    {
      "cell_type": "code",
      "source": [
        "pip install beautifulsoup4\n"
      ],
      "metadata": {
        "colab": {
          "base_uri": "https://localhost:8080/"
        },
        "id": "g3zcFCiNB69w",
        "outputId": "b6500451-a1af-4d03-9c08-f47ec7085ced"
      },
      "execution_count": 5,
      "outputs": [
        {
          "output_type": "stream",
          "name": "stdout",
          "text": [
            "Requirement already satisfied: beautifulsoup4 in /usr/local/lib/python3.10/dist-packages (4.12.3)\n",
            "Requirement already satisfied: soupsieve>1.2 in /usr/local/lib/python3.10/dist-packages (from beautifulsoup4) (2.5)\n"
          ]
        }
      ]
    },
    {
      "cell_type": "code",
      "source": [
        "def extract_artist_rankings(url):\n",
        "\n",
        "    response = requests.get(url)\n",
        "    if response.status_code == 200:\n",
        "\n",
        "        soup = BeautifulSoup(response.content, 'html.parser')\n",
        "        artist_rows = soup.find_all('tr')[1:]  # Start from index 1 to skip the header row\n",
        "\n",
        "        rankings = []\n",
        "\n",
        "        for row in artist_rows:\n",
        "            rank = row.find('td', class_='index').text.strip()\n",
        "\n",
        "            name = row.find('td', class_='name').a.text.strip()\n",
        "\n",
        "            rankings.append({'Rank': rank, 'Name': name})\n",
        "\n",
        "        return rankings\n",
        "    else:\n",
        "        print(f\"Failed to retrieve data from the URL: {url}\")\n",
        "        return []\n"
      ],
      "metadata": {
        "id": "dbad__R_C9II"
      },
      "execution_count": 29,
      "outputs": []
    },
    {
      "cell_type": "code",
      "source": [
        "def save_artist_rankings_to_csv(data, filename):\n",
        "\n",
        "    with open(filename, 'w', newline='', encoding='utf-8') as csvfile:\n",
        "        writer = csv.DictWriter(csvfile, fieldnames=['Rank', 'Name'])\n",
        "        writer.writeheader()\n",
        "        writer.writerows(data)\n",
        "\n",
        "    print(f\"Data saved successfully to {filename}\")"
      ],
      "metadata": {
        "id": "c8iDSUE1RLTe"
      },
      "execution_count": 30,
      "outputs": []
    },
    {
      "cell_type": "code",
      "source": [
        "\n",
        "urls = [\n",
        "    \"https://www.songkick.com/leaderboards/popular_artists\",\n",
        "    \"https://www.songkick.com/leaderboards/popular_artists?page=2\",\n",
        "    \"https://www.songkick.com/leaderboards/popular_artists?page=3\",\n",
        "    \"https://www.songkick.com/leaderboards/popular_artists?page=4\",\n",
        "    \"https://www.songkick.com/leaderboards/popular_artists?page=5\"\n",
        "]\n"
      ],
      "metadata": {
        "id": "yom3XphbRNSh"
      },
      "execution_count": 31,
      "outputs": []
    },
    {
      "cell_type": "code",
      "source": [
        "all_rankings = []\n",
        "\n",
        "# Scrape each URL and extract artist rankings\n",
        "for url in urls:\n",
        "    rankings = extract_artist_rankings(url)\n",
        "    all_rankings.extend(rankings)\n",
        "\n",
        "# Save the artist rankings to a CSV file\n",
        "save_artist_rankings_to_csv(all_rankings, 'artist_rankings.csv')"
      ],
      "metadata": {
        "colab": {
          "base_uri": "https://localhost:8080/"
        },
        "id": "mK4H0hhVRPLB",
        "outputId": "1b21f447-fe28-4c80-b8b5-e17466325a2c"
      },
      "execution_count": 32,
      "outputs": [
        {
          "output_type": "stream",
          "name": "stdout",
          "text": [
            "Data saved successfully to artist_rankings.csv\n"
          ]
        }
      ]
    }
  ]
}